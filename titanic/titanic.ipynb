{
 "cells": [
  {
   "cell_type": "code",
   "execution_count": 1,
   "id": "3ef0355f-2680-4c4d-8cbd-126ded4afd2f",
   "metadata": {},
   "outputs": [],
   "source": [
    "import pandas as pd, numpy as np, sklearn, seaborn\n",
    "from sklearn.decomposition import PCA\n",
    "from sklearn.impute import KNNImputer\n",
    "from sklearn.preprocessing import OneHotEncoder, StandardScaler\n",
    "from sklearn.compose import ColumnTransformer\n",
    "from sklearn.pipeline import Pipeline\n",
    "from sklearn.linear_model import LogisticRegression\n",
    "from sklearn.model_selection import train_test_split\n",
    "from sklearn.ensemble import RandomForestClassifier\n",
    "from xgboost import XGBClassifier"
   ]
  },
  {
   "cell_type": "code",
   "execution_count": 64,
   "id": "a56d589d-37f1-438a-9d88-c3f5e393014c",
   "metadata": {},
   "outputs": [],
   "source": [
    "# Load data\n",
    "data = pd.read_csv('train.csv')\n",
    "\n",
    "# Drop irrelevant columns. Cabin may not be fully irrelevant, as it may give hint as to the passenger's location\n",
    "# when the accident occurred, I may try to do more with it later.\n",
    "data_noc = data.drop(columns=['Cabin','Name', 'Ticket','PassengerId'])\n",
    "\n",
    "y = data_noc['Survived']\n",
    "X = data_noc.drop(columns = ['Survived'])\n",
    "cols = X.columns\n",
    "X_train, X_test, y_train, y_test = train_test_split(X, y, test_size=0.1, random_state=0)"
   ]
  },
  {
   "cell_type": "code",
   "execution_count": 8,
   "id": "a0f12860-f827-49e9-840d-685d487677a8",
   "metadata": {},
   "outputs": [],
   "source": [
    "imputer = KNNImputer(n_neighbors=5, weights=\"uniform\")\n",
    "\n",
    "pipeline_1 = Pipeline([('Impute', imputer), ('Scaler', StandardScaler())]) # Numerical\n",
    "pipeline_2 = Pipeline([('Encoder', OneHotEncoder())]) # Categorical\n",
    "\n",
    "preprocess = ColumnTransformer(\n",
    "    [('Numerical', pipeline_1, ['Age','SibSp','Parch','Fare']),\n",
    "     ('Categorical', pipeline_2, ['Pclass','Sex','Embarked'])])"
   ]
  },
  {
   "cell_type": "code",
   "execution_count": 6,
   "id": "9e27f2e2-f078-4e5d-97ad-1f2d6946beb7",
   "metadata": {},
   "outputs": [],
   "source": [
    "clf = Pipeline(\n",
    "    steps=[(\"preprocessor\", preprocess), (\"classifier\", LogisticRegression())]\n",
    ")\n",
    "clf.fit(X_train, y_train);\n"
   ]
  },
  {
   "cell_type": "code",
   "execution_count": 19,
   "id": "a3b840bf-466c-4dcc-9c6f-cc0500b2ccf5",
   "metadata": {},
   "outputs": [
    {
     "data": {
      "text/plain": [
       "array([2.66015710e-01, 4.40905267e-02, 3.66737930e-02, 2.41482438e-01,\n",
       "       2.44064527e-02, 1.47139637e-02, 4.99839774e-02, 1.13721257e-01,\n",
       "       1.72688176e-01, 1.12694437e-02, 7.55994775e-03, 1.73415863e-02,\n",
       "       5.27282328e-05])"
      ]
     },
     "execution_count": 19,
     "metadata": {},
     "output_type": "execute_result"
    }
   ],
   "source": [
    "# Feature importance check\n",
    "\n",
    "forest = RandomForestClassifier(random_state = 0)\n",
    "\n",
    "forest_pipe = Pipeline(\n",
    "    steps=[(\"preprocessor\", preprocess), (\"classifier\", forest)]\n",
    ")\n",
    "forest_pipe.fit(X_train, y_train)\n",
    "forest.feature_importances_"
   ]
  },
  {
   "cell_type": "code",
   "execution_count": 65,
   "id": "2b36aec8-48ac-4375-8cde-8ade3843cfc4",
   "metadata": {},
   "outputs": [
    {
     "name": "stdout",
     "output_type": "stream",
     "text": [
      "model score: 0.833\n"
     ]
    }
   ],
   "source": [
    "print(\"model score: %.3f\" % clf.score(X_test, y_test))"
   ]
  },
  {
   "cell_type": "code",
   "execution_count": 80,
   "id": "dbfbe40e-8205-4bff-98d9-e8a65432ceaf",
   "metadata": {},
   "outputs": [
    {
     "name": "stdout",
     "output_type": "stream",
     "text": [
      "model score: 0.856\n"
     ]
    }
   ],
   "source": [
    "# XGBoost test\n",
    "xgb = XGBClassifier(n_estimators=4, max_depth=10, learning_rate=0.4, objective='binary:logistic')\n",
    "\n",
    "clf = Pipeline(\n",
    "    steps=[(\"preprocessor\", preprocess), (\"classifier\", xgb)]\n",
    ")\n",
    "clf.fit(X_train, y_train);\n",
    "print(\"model score: %.3f\" % clf.score(X_test, y_test))"
   ]
  },
  {
   "cell_type": "code",
   "execution_count": 81,
   "id": "8074b289-cd4a-4ad1-9062-b3949ad657a9",
   "metadata": {},
   "outputs": [],
   "source": [
    "test_dat = pd.read_csv('test.csv')\n",
    "pred_dat = pd.DataFrame(clf.predict(test_dat).reshape(-1,1), columns = ['Survived'])\n",
    "temp = pd.DataFrame(test_dat.PassengerId)\n",
    "pred_dat = temp.join(pred_dat)"
   ]
  },
  {
   "cell_type": "code",
   "execution_count": 82,
   "id": "db5587f1-d346-49f9-86ef-487f22a74b18",
   "metadata": {},
   "outputs": [],
   "source": [
    "pred_dat.to_csv('pred.csv', index = False, index_label = False)"
   ]
  },
  {
   "cell_type": "code",
   "execution_count": 57,
   "id": "d6195854-d9e2-4cbe-b5a2-195047959765",
   "metadata": {},
   "outputs": [
    {
     "name": "stdout",
     "output_type": "stream",
     "text": [
      "     PassengerId  Survived\n",
      "0            892         0\n",
      "1            893         0\n",
      "2            894         0\n",
      "3            895         0\n",
      "4            896         0\n",
      "..           ...       ...\n",
      "413         1305         0\n",
      "414         1306         1\n",
      "415         1307         0\n",
      "416         1308         0\n",
      "417         1309         0\n",
      "\n",
      "[418 rows x 2 columns]\n"
     ]
    }
   ],
   "source": [
    "print(pred_dat)"
   ]
  }
 ],
 "metadata": {
  "kernelspec": {
   "display_name": "Python 3 (ipykernel)",
   "language": "python",
   "name": "python3"
  },
  "language_info": {
   "codemirror_mode": {
    "name": "ipython",
    "version": 3
   },
   "file_extension": ".py",
   "mimetype": "text/x-python",
   "name": "python",
   "nbconvert_exporter": "python",
   "pygments_lexer": "ipython3",
   "version": "3.10.7"
  }
 },
 "nbformat": 4,
 "nbformat_minor": 5
}
